{
 "cells": [
  {
   "cell_type": "code",
   "execution_count": 1,
   "metadata": {},
   "outputs": [],
   "source": [
    "from vega import BuildConfig"
   ]
  },
  {
   "cell_type": "code",
   "execution_count": 6,
   "metadata": {},
   "outputs": [],
   "source": [
    "options = {'scale_params':'ap_at', 'template':'PlanckDR16/PlanckDR16.fits', 'full_shape':False,\n",
    "          'small_scale_nl':True, 'bao_broadening':True, 'velocity_dispersion':'lorentz', 'radiation_effects':True,\n",
    "          'hcd_model':'Rogers2018', 'metals':'all'}\n",
    "\n",
    "config_builder = BuildConfig(options)"
   ]
  },
  {
   "cell_type": "code",
   "execution_count": 7,
   "metadata": {},
   "outputs": [
    {
     "data": {
      "text/plain": [
       "WindowsPath('D:/work/temp/test/test5/main.ini')"
      ]
     },
     "execution_count": 7,
     "metadata": {},
     "output_type": "execute_result"
    }
   ],
   "source": [
    "fit_type = 'lyalya_lyalya__lyalya_lyalyb__lyalya_qso__lyalyb_qso'\n",
    "\n",
    "fit_info = {'fitter':True, 'sampler':False, 'zeff':2.33, 'use_bias_eta':{'LYA':True, 'QSO':True},\n",
    "            'sample_params':['ap','at','bias_eta_LYA','beta_LYA','beta_QSO','bias_hcd','beta_hcd']}\n",
    "\n",
    "correlations = {'lyalya_lyalya':{}, 'lyalya_lyalyb':{}, 'lyalya_qso':{}, 'lyalyb_qso':{}}\n",
    "correlations['lyalya_lyalya']['corr_path'] = 'path_to_measured_correlation'\n",
    "correlations['lyalya_lyalya']['metal_path'] = 'path_to_metal_matrix'\n",
    "correlations['lyalya_lyalya']['r-min'] = 20\n",
    "correlations['lyalya_lyalya']['r-max'] = 160\n",
    "correlations['lyalya_lyalya']['binsize'] = 4\n",
    "\n",
    "correlations['lyalya_lyalyb']['corr_path'] = 'path_to_measured_correlation'\n",
    "correlations['lyalya_lyalyb']['metal_path'] = 'path_to_metal_matrix'\n",
    "correlations['lyalya_qso']['corr_path'] = 'path_to_measured_correlation'\n",
    "correlations['lyalya_qso']['metal_path'] = 'path_to_metal_matrix'\n",
    "correlations['lyalyb_qso']['corr_path'] = 'path_to_measured_correlation'\n",
    "correlations['lyalyb_qso']['metal_path'] = 'path_to_metal_matrix'\n",
    "\n",
    "out_path = 'D:\\\\work\\\\temp\\\\test\\\\test5'\n",
    "\n",
    "config_builder.build(correlations, fit_type, fit_info, out_path)"
   ]
  },
  {
   "cell_type": "code",
   "execution_count": null,
   "metadata": {},
   "outputs": [],
   "source": [
    "# terminal commands\n",
    "# python bin\\make_configs.py --fit-name lyalya_lyalya__lyalya_qso --corr-paths path1 path2 --out-path D:\\work\\temp\\test\\test4 --zeff 2.25 --sample-params ap at bias_eta_LYA beta_LYA"
   ]
  }
 ],
 "metadata": {
  "kernelspec": {
   "display_name": "vega",
   "language": "python",
   "name": "vega"
  },
  "language_info": {
   "codemirror_mode": {
    "name": "ipython",
    "version": 3
   },
   "file_extension": ".py",
   "mimetype": "text/x-python",
   "name": "python",
   "nbconvert_exporter": "python",
   "pygments_lexer": "ipython3",
   "version": "3.8.5"
  }
 },
 "nbformat": 4,
 "nbformat_minor": 4
}
